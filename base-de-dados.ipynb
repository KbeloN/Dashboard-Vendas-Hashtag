{
 "cells": [
  {
   "cell_type": "code",
   "execution_count": 27,
   "id": "55156233",
   "metadata": {},
   "outputs": [
    {
     "name": "stdout",
     "output_type": "stream",
     "text": [
      "Requirement already satisfied: pandas in c:\\users\\cabel\\appdata\\local\\programs\\python\\python313\\lib\\site-packages (2.2.3)\n",
      "Requirement already satisfied: numpy>=1.26.0 in c:\\users\\cabel\\appdata\\local\\programs\\python\\python313\\lib\\site-packages (from pandas) (2.3.2)\n",
      "Requirement already satisfied: python-dateutil>=2.8.2 in c:\\users\\cabel\\appdata\\local\\programs\\python\\python313\\lib\\site-packages (from pandas) (2.9.0.post0)\n",
      "Requirement already satisfied: pytz>=2020.1 in c:\\users\\cabel\\appdata\\local\\programs\\python\\python313\\lib\\site-packages (from pandas) (2025.2)\n",
      "Requirement already satisfied: tzdata>=2022.7 in c:\\users\\cabel\\appdata\\local\\programs\\python\\python313\\lib\\site-packages (from pandas) (2025.2)\n",
      "Requirement already satisfied: six>=1.5 in c:\\users\\cabel\\appdata\\local\\programs\\python\\python313\\lib\\site-packages (from python-dateutil>=2.8.2->pandas) (1.17.0)\n",
      "Note: you may need to restart the kernel to use updated packages.\n"
     ]
    }
   ],
   "source": [
    "pip install pandas"
   ]
  },
  {
   "cell_type": "code",
   "execution_count": 28,
   "id": "c1609ed9",
   "metadata": {},
   "outputs": [],
   "source": [
    "import os\n",
    "import pandas as pd"
   ]
  },
  {
   "cell_type": "code",
   "execution_count": 29,
   "id": "a3a700b4",
   "metadata": {},
   "outputs": [],
   "source": [
    "# Pegar todos os arquivos da pasta \"Vendas\"\n",
    "lista_arquivos = os.listdir(\"..\\\\Mini-curso-python-hashtag\\\\Vendas\")"
   ]
  },
  {
   "cell_type": "code",
   "execution_count": 30,
   "id": "3f677680",
   "metadata": {},
   "outputs": [],
   "source": [
    "# Juntar todos os arquivos com o nome \"Vendas\" em um dataframe\n",
    "tabela_vendas = pd.DataFrame()\n",
    "\n",
    "for arquivos in lista_arquivos:\n",
    "    if \"vendas\" in arquivos.lower():\n",
    "        tabela = pd.read_csv(f\"..\\\\Mini-curso-python-hashtag\\\\Vendas\\\\{arquivos}\")\n",
    "        tabela_vendas = pd.concat([tabela_vendas, tabela], ignore_index=True)"
   ]
  },
  {
   "cell_type": "code",
   "execution_count": null,
   "id": "091bef52",
   "metadata": {},
   "outputs": [],
   "source": [
    "# Tratamento das datas\n",
    "tabela_vendas['Data'] = pd.to_datetime(tabela_vendas['Data'], format=\"%m/%d/%Y\")\n",
    "\n",
    "# Criação da coluna de faturamento da compra\n",
    "tabela_vendas['faturamento'] = tabela_vendas['Quantidade Vendida'] * tabela_vendas['Preco Unitario']\n",
    "\n",
    "# Remoção de colunas desnecessárias\n",
    "tabela_vendas.drop(columns=['Unnamed: 8'], inplace=True)"
   ]
  },
  {
   "cell_type": "code",
   "execution_count": null,
   "id": "7f35d53e",
   "metadata": {},
   "outputs": [
    {
     "name": "stdout",
     "output_type": "stream",
     "text": [
      "<class 'pandas.core.frame.DataFrame'>\n",
      "RangeIndex: 9999 entries, 0 to 9998\n",
      "Data columns (total 9 columns):\n",
      " #   Column              Non-Null Count  Dtype         \n",
      "---  ------              --------------  -----         \n",
      " 0   SKU                 9999 non-null   object        \n",
      " 1   Produto             9999 non-null   object        \n",
      " 2   Quantidade Vendida  9999 non-null   int64         \n",
      " 3   Primeiro Nome       9999 non-null   object        \n",
      " 4   Sobrenome           9999 non-null   object        \n",
      " 5   Data                9999 non-null   datetime64[ns]\n",
      " 6   Loja                9999 non-null   object        \n",
      " 7   Preco Unitario      9999 non-null   int64         \n",
      " 8   faturamento         9999 non-null   int64         \n",
      "dtypes: datetime64[ns](1), int64(3), object(5)\n",
      "memory usage: 703.2+ KB\n"
     ]
    }
   ],
   "source": [
    "tabela_vendas.to_csv(\"tabela_vendas_final.csv\", index=False)"
   ]
  }
 ],
 "metadata": {
  "kernelspec": {
   "display_name": "Python 3",
   "language": "python",
   "name": "python3"
  },
  "language_info": {
   "codemirror_mode": {
    "name": "ipython",
    "version": 3
   },
   "file_extension": ".py",
   "mimetype": "text/x-python",
   "name": "python",
   "nbconvert_exporter": "python",
   "pygments_lexer": "ipython3",
   "version": "3.13.5"
  }
 },
 "nbformat": 4,
 "nbformat_minor": 5
}
